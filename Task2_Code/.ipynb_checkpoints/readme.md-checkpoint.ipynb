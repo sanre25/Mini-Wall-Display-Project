{
 "cells": [
  {
   "cell_type": "markdown",
   "id": "899638a7",
   "metadata": {},
   "source": [
    "## Overview\n",
    "This will send the renderd images to clinets for display wall\n",
    "\n",
    "## Environment Setup\n",
    "\n",
    "Ensure that your environment is set up as described in TASK-1. Install the required OpenCV library using the following command:\n",
    "\n",
    "   `pip install opencv-python` \n",
    "\n",
    "\n",
    "## Steps\n",
    "\n",
    "1. Run the `merge.py` file using the command:\n",
    "\n",
    "   ``python merge.py``\n",
    "\n",
    "   This will create two folders:\n",
    "\n",
    "   A) output_frames\n",
    "   \n",
    "   B) output_parts\n",
    "   \n",
    "      a) top_left\n",
    "      \n",
    "      b) top_right\n",
    "      \n",
    "      c) bottom_left\n",
    "      \n",
    "      d) bottom_right\n",
    "      \n",
    "2. Set the number of clients (`CLIENT = 4`) in the `server_v2.py` file. Set the `INDEX` value in each `client_f.py` file.\n",
    "\n",
    "3. Run the server: `python server_v2.py`\n",
    "\n",
    "4. Run each client: `python client_f.py`\n",
    "\n",
    "   Ensure that the connection is made securely. \n",
    "   \n",
    "5. Press ENTER on the server side to start the image transfer.\n",
    "\n",
    "   The output_parts subfolders will be sent to four different clients.\n",
    "\n",
    "    \n",
    "## Viewing Images\n",
    "\n",
    "Finally, to view the images on the client side, you can use either the system viewer or OpenCV. Below is an example OpenCV code to view images. Run the show_img.py file on the server side to see a demonstration.\n",
    "\n"
   ]
  }
 ],
 "metadata": {
  "kernelspec": {
   "display_name": "Python 3 (ipykernel)",
   "language": "python",
   "name": "python3"
  },
  "language_info": {
   "codemirror_mode": {
    "name": "ipython",
    "version": 3
   },
   "file_extension": ".py",
   "mimetype": "text/x-python",
   "name": "python",
   "nbconvert_exporter": "python",
   "pygments_lexer": "ipython3",
   "version": "3.11.5"
  }
 },
 "nbformat": 4,
 "nbformat_minor": 5
}
