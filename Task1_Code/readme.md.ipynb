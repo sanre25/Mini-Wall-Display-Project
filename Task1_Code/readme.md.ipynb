{
 "cells": [
  {
   "cell_type": "markdown",
   "id": "0d76cb59",
   "metadata": {},
   "source": [
    "\n",
    "## Overview\n",
    "\n",
    "In this simulated data is to be sent parallely to the clients for visualisation and make MINI- DISPLAY WALL\n",
    "\n",
    "## Requirements\n",
    "\n",
    "Ensure that you have Python installed in your environment. Additionally, install the following libraries:\n",
    "\n",
    "1. **vtk:**     `pip install vtk`\n",
    "2. **mpi4py:**  `pip install mpi4py`\n",
    "\n",
    "## File Configuration\n",
    "\n",
    "### `server_stream.py`\n",
    "\n",
    "- Modify the value of the `CLIENT` variable to match the desired number of clients. The default value is set to 4 (`CLIENT = 4`).\n",
    "\n",
    "### `client_stream.py`\n",
    "\n",
    "- Adjust the `INDEX` value for each client. For example, set it to 1 for client1, 2 for client2, and so on.\n",
    "\n",
    "## Running the Code\n",
    "\n",
    "1. **Server Execution:**\n",
    "\n",
    "   Run the `server_stream.py` file on the server using the command line:\n",
    "\n",
    "   ```bash\n",
    "   python server_stream.py <NX> <NY> <TIMESTAMPS>\n",
    "   \n",
    "   This will print the server address. Copy that address in  client codes variable `SERVER`.\n",
    "\n",
    "2. **Clinet Execution:**\n",
    "\n",
    "   Run the `clinet_vtk_v5.py` file on client using command the command line\n",
    "   ```bash\n",
    "   python client_stream.py\n",
    "\n",
    "3. Establish Connection:\n",
    "\n",
    "   After connection, press `ENTER` to initiate data transmission for visualization.\n",
    "   \n",
    "## Note\n",
    "\n",
    "-  The CLIENT variable in the server file determines the number of clients for visualization.\n",
    "-  Each client should have a unique INDEX value specified in the client file.\n"
   ]
  }
 ],
 "metadata": {
  "kernelspec": {
   "display_name": "Python 3 (ipykernel)",
   "language": "python",
   "name": "python3"
  },
  "language_info": {
   "codemirror_mode": {
    "name": "ipython",
    "version": 3
   },
   "file_extension": ".py",
   "mimetype": "text/x-python",
   "name": "python",
   "nbconvert_exporter": "python",
   "pygments_lexer": "ipython3",
   "version": "3.11.5"
  }
 },
 "nbformat": 4,
 "nbformat_minor": 5
}
